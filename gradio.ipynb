{
 "cells": [
  {
   "cell_type": "markdown",
   "id": "1f4315a7",
   "metadata": {
    "slideshow": {
     "slide_type": "notes"
    }
   },
   "source": [
    "#  What Does Gradio Do?"
   ]
  },
  {
   "cell_type": "markdown",
   "id": "f8a32de9",
   "metadata": {},
   "source": [
    "One of the best ways to share your machine learning model, API, or data science workflow with others is to create an interactive app that allows your users or colleagues to try out the demo in their browsers."
   ]
  },
  {
   "cell_type": "markdown",
   "id": "44ea6e07",
   "metadata": {},
   "source": [
    "# Learn to use Gradio"
   ]
  },
  {
   "cell_type": "markdown",
   "id": "61e08ecf",
   "metadata": {},
   "source": [
    "### 1.Install Gradio"
   ]
  },
  {
   "cell_type": "code",
   "execution_count": 29,
   "id": "e415baad",
   "metadata": {
    "collapsed": true
   },
   "outputs": [
    {
     "name": "stdout",
     "output_type": "stream",
     "text": [
      "Requirement already satisfied: gradio in c:\\users\\gaozi\\anaconda3\\lib\\site-packages (3.12.0)Note: you may need to restart the kernel to use updated packages.\n"
     ]
    },
    {
     "name": "stderr",
     "output_type": "stream",
     "text": [
      "WARNING: Error parsing requirements for torch: [Errno 2] No such file or directory: 'c:\\\\users\\\\gaozi\\\\anaconda3\\\\lib\\\\site-packages\\\\torch-1.8.0.dist-info\\\\METADATA'\n"
     ]
    },
    {
     "name": "stdout",
     "output_type": "stream",
     "text": [
      "\n",
      "Requirement already satisfied: pydub in c:\\users\\gaozi\\anaconda3\\lib\\site-packages (from gradio) (0.25.1)\n",
      "Requirement already satisfied: pandas in c:\\users\\gaozi\\anaconda3\\lib\\site-packages (from gradio) (1.3.4)\n",
      "Requirement already satisfied: paramiko in c:\\users\\gaozi\\anaconda3\\lib\\site-packages (from gradio) (2.7.2)\n",
      "Requirement already satisfied: websockets>=10.0 in c:\\users\\gaozi\\anaconda3\\lib\\site-packages (from gradio) (10.4)\n",
      "Requirement already satisfied: httpx in c:\\users\\gaozi\\anaconda3\\lib\\site-packages (from gradio) (0.23.1)\n",
      "Requirement already satisfied: matplotlib in c:\\users\\gaozi\\anaconda3\\lib\\site-packages (from gradio) (3.4.3)\n",
      "Requirement already satisfied: pyyaml in c:\\users\\gaozi\\anaconda3\\lib\\site-packages (from gradio) (6.0)\n",
      "Requirement already satisfied: pydantic in c:\\users\\gaozi\\anaconda3\\lib\\site-packages (from gradio) (1.10.2)\n",
      "Requirement already satisfied: aiohttp in c:\\users\\gaozi\\anaconda3\\lib\\site-packages (from gradio) (3.8.3)\n",
      "Requirement already satisfied: h11<0.13,>=0.11 in c:\\users\\gaozi\\anaconda3\\lib\\site-packages (from gradio) (0.12.0)\n",
      "Requirement already satisfied: requests in c:\\users\\gaozi\\anaconda3\\lib\\site-packages (from gradio) (2.26.0)\n",
      "Requirement already satisfied: jinja2 in c:\\users\\gaozi\\anaconda3\\lib\\site-packages (from gradio) (2.11.3)\n",
      "Requirement already satisfied: markdown-it-py[linkify,plugins] in c:\\users\\gaozi\\anaconda3\\lib\\site-packages (from gradio) (2.1.0)\n",
      "Requirement already satisfied: fsspec in c:\\users\\gaozi\\anaconda3\\lib\\site-packages (from gradio) (2021.10.1)\n",
      "Requirement already satisfied: numpy in c:\\users\\gaozi\\anaconda3\\lib\\site-packages (from gradio) (1.22.4)\n",
      "Requirement already satisfied: pycryptodome in c:\\users\\gaozi\\anaconda3\\lib\\site-packages (from gradio) (3.16.0)\n",
      "Requirement already satisfied: ffmpy in c:\\users\\gaozi\\anaconda3\\lib\\site-packages (from gradio) (0.3.0)\n",
      "Requirement already satisfied: python-multipart in c:\\users\\gaozi\\anaconda3\\lib\\site-packages (from gradio) (0.0.5)\n",
      "Requirement already satisfied: pillow in c:\\users\\gaozi\\anaconda3\\lib\\site-packages (from gradio) (9.1.1)\n",
      "Requirement already satisfied: fastapi in c:\\users\\gaozi\\anaconda3\\lib\\site-packages (from gradio) (0.88.0)\n",
      "Requirement already satisfied: uvicorn in c:\\users\\gaozi\\anaconda3\\lib\\site-packages (from gradio) (0.20.0)\n",
      "Requirement already satisfied: orjson in c:\\users\\gaozi\\anaconda3\\lib\\site-packages (from gradio) (3.8.2)\n",
      "Requirement already satisfied: aiosignal>=1.1.2 in c:\\users\\gaozi\\anaconda3\\lib\\site-packages (from aiohttp->gradio) (1.3.1)\n",
      "Requirement already satisfied: multidict<7.0,>=4.5 in c:\\users\\gaozi\\anaconda3\\lib\\site-packages (from aiohttp->gradio) (6.0.2)\n",
      "Requirement already satisfied: attrs>=17.3.0 in c:\\users\\gaozi\\anaconda3\\lib\\site-packages (from aiohttp->gradio) (21.2.0)\n",
      "Requirement already satisfied: async-timeout<5.0,>=4.0.0a3 in c:\\users\\gaozi\\anaconda3\\lib\\site-packages (from aiohttp->gradio) (4.0.2)\n",
      "Requirement already satisfied: charset-normalizer<3.0,>=2.0 in c:\\users\\gaozi\\anaconda3\\lib\\site-packages (from aiohttp->gradio) (2.0.4)\n",
      "Requirement already satisfied: frozenlist>=1.1.1 in c:\\users\\gaozi\\anaconda3\\lib\\site-packages (from aiohttp->gradio) (1.3.3)\n",
      "Requirement already satisfied: yarl<2.0,>=1.0 in c:\\users\\gaozi\\anaconda3\\lib\\site-packages (from aiohttp->gradio) (1.8.1)\n",
      "Requirement already satisfied: idna>=2.0 in c:\\users\\gaozi\\anaconda3\\lib\\site-packages (from yarl<2.0,>=1.0->aiohttp->gradio) (3.2)\n",
      "Requirement already satisfied: starlette==0.22.0 in c:\\users\\gaozi\\anaconda3\\lib\\site-packages (from fastapi->gradio) (0.22.0)\n",
      "Requirement already satisfied: anyio<5,>=3.4.0 in c:\\users\\gaozi\\anaconda3\\lib\\site-packages (from starlette==0.22.0->fastapi->gradio) (3.6.2)\n",
      "Requirement already satisfied: typing-extensions>=3.10.0 in c:\\users\\gaozi\\anaconda3\\lib\\site-packages (from starlette==0.22.0->fastapi->gradio) (4.2.0)\n",
      "Requirement already satisfied: sniffio>=1.1 in c:\\users\\gaozi\\anaconda3\\lib\\site-packages (from anyio<5,>=3.4.0->starlette==0.22.0->fastapi->gradio) (1.2.0)\n",
      "Requirement already satisfied: certifi in c:\\users\\gaozi\\anaconda3\\lib\\site-packages (from httpx->gradio) (2021.10.8)\n",
      "Requirement already satisfied: httpcore<0.17.0,>=0.15.0 in c:\\users\\gaozi\\anaconda3\\lib\\site-packages (from httpx->gradio) (0.15.0)\n",
      "Requirement already satisfied: rfc3986[idna2008]<2,>=1.3 in c:\\users\\gaozi\\anaconda3\\lib\\site-packages (from httpx->gradio) (1.5.0)\n",
      "Requirement already satisfied: MarkupSafe>=0.23 in c:\\users\\gaozi\\anaconda3\\lib\\site-packages (from jinja2->gradio) (1.1.1)\n",
      "Requirement already satisfied: mdurl~=0.1 in c:\\users\\gaozi\\anaconda3\\lib\\site-packages (from markdown-it-py[linkify,plugins]->gradio) (0.1.2)\n",
      "Requirement already satisfied: linkify-it-py~=1.0 in c:\\users\\gaozi\\anaconda3\\lib\\site-packages (from markdown-it-py[linkify,plugins]->gradio) (1.0.3)\n",
      "Requirement already satisfied: mdit-py-plugins in c:\\users\\gaozi\\anaconda3\\lib\\site-packages (from markdown-it-py[linkify,plugins]->gradio) (0.3.1)\n",
      "Requirement already satisfied: uc-micro-py in c:\\users\\gaozi\\anaconda3\\lib\\site-packages (from linkify-it-py~=1.0->markdown-it-py[linkify,plugins]->gradio) (1.0.1)\n",
      "Requirement already satisfied: pyparsing>=2.2.1 in c:\\users\\gaozi\\anaconda3\\lib\\site-packages (from matplotlib->gradio) (3.0.4)\n",
      "Requirement already satisfied: cycler>=0.10 in c:\\users\\gaozi\\anaconda3\\lib\\site-packages (from matplotlib->gradio) (0.10.0)\n",
      "Requirement already satisfied: python-dateutil>=2.7 in c:\\users\\gaozi\\anaconda3\\lib\\site-packages (from matplotlib->gradio) (2.8.2)\n",
      "Requirement already satisfied: kiwisolver>=1.0.1 in c:\\users\\gaozi\\anaconda3\\lib\\site-packages (from matplotlib->gradio) (1.3.1)\n",
      "Requirement already satisfied: six in c:\\users\\gaozi\\anaconda3\\lib\\site-packages (from cycler>=0.10->matplotlib->gradio) (1.16.0)\n",
      "Requirement already satisfied: pytz>=2017.3 in c:\\users\\gaozi\\anaconda3\\lib\\site-packages (from pandas->gradio) (2021.3)\n",
      "Requirement already satisfied: cryptography>=2.5 in c:\\users\\gaozi\\anaconda3\\lib\\site-packages (from paramiko->gradio) (3.4.8)\n",
      "Requirement already satisfied: bcrypt>=3.1.3 in c:\\users\\gaozi\\anaconda3\\lib\\site-packages (from paramiko->gradio) (3.2.0)\n",
      "Requirement already satisfied: pynacl>=1.0.1 in c:\\users\\gaozi\\anaconda3\\lib\\site-packages (from paramiko->gradio) (1.4.0)\n",
      "Requirement already satisfied: cffi>=1.1 in c:\\users\\gaozi\\anaconda3\\lib\\site-packages (from bcrypt>=3.1.3->paramiko->gradio) (1.14.6)\n",
      "Requirement already satisfied: pycparser in c:\\users\\gaozi\\anaconda3\\lib\\site-packages (from cffi>=1.1->bcrypt>=3.1.3->paramiko->gradio) (2.20)\n",
      "Requirement already satisfied: urllib3<1.27,>=1.21.1 in c:\\users\\gaozi\\anaconda3\\lib\\site-packages (from requests->gradio) (1.26.12)\n",
      "Requirement already satisfied: click>=7.0 in c:\\users\\gaozi\\anaconda3\\lib\\site-packages (from uvicorn->gradio) (8.0.3)\n",
      "Requirement already satisfied: colorama in c:\\users\\gaozi\\anaconda3\\lib\\site-packages (from click>=7.0->uvicorn->gradio) (0.4.4)\n"
     ]
    }
   ],
   "source": [
    "pip install gradio"
   ]
  },
  {
   "cell_type": "markdown",
   "id": "93c2cb08",
   "metadata": {},
   "source": [
    "### 2.import gradio"
   ]
  },
  {
   "cell_type": "code",
   "execution_count": 30,
   "id": "4cb6c167",
   "metadata": {},
   "outputs": [],
   "source": [
    "import gradio as gr"
   ]
  },
  {
   "cell_type": "markdown",
   "id": "a7a8e9b3",
   "metadata": {},
   "source": [
    "### 3.Define your functional function"
   ]
  },
  {
   "cell_type": "markdown",
   "id": "d9ba1b72",
   "metadata": {},
   "source": [
    "Here we have the simplest \"Hello, World\" as an example."
   ]
  },
  {
   "cell_type": "code",
   "execution_count": 31,
   "id": "278a9dc9",
   "metadata": {},
   "outputs": [],
   "source": [
    "def greet(name):\n",
    "    return \"Hello \" + name + \"!\""
   ]
  },
  {
   "cell_type": "markdown",
   "id": "3d42249d",
   "metadata": {},
   "source": [
    "### 4.Use the Interface Class to create a user interface wrapping our functional functions"
   ]
  },
  {
   "cell_type": "markdown",
   "id": "b652cd10",
   "metadata": {},
   "source": [
    "The core Interface class is initialized with three required parameters:\n",
    "\n",
    "fn: the function to wrap a UI around\n",
    "\n",
    "inputs: which component(s) to use for the input (e.g. \"text\", \"image\" or \"audio\")\n",
    "\n",
    "outputs: which component(s) to use for the output (e.g. \"text\", \"image\" or \"label\")"
   ]
  },
  {
   "cell_type": "code",
   "execution_count": 32,
   "id": "7ae1a4fc",
   "metadata": {},
   "outputs": [],
   "source": [
    "demo = gr.Interface(fn=greet, inputs=\"text\", outputs=\"text\")"
   ]
  },
  {
   "cell_type": "markdown",
   "id": "2971f7ec",
   "metadata": {},
   "source": [
    "### 5.launch result"
   ]
  },
  {
   "cell_type": "markdown",
   "id": "cf42843f",
   "metadata": {},
   "source": [
    "After launching the demo, a link will be output about the relevant user interface."
   ]
  },
  {
   "cell_type": "code",
   "execution_count": 33,
   "id": "3a0a2659",
   "metadata": {},
   "outputs": [
    {
     "name": "stdout",
     "output_type": "stream",
     "text": [
      "Running on local URL:  http://127.0.0.1:7881\n",
      "\n",
      "To create a public link, set `share=True` in `launch()`.\n"
     ]
    },
    {
     "data": {
      "text/html": [
       "<div><iframe src=\"http://127.0.0.1:7881/\" width=\"100%\" height=\"500\" allow=\"autoplay; camera; microphone; clipboard-read; clipboard-write;\" frameborder=\"0\" allowfullscreen></iframe></div>"
      ],
      "text/plain": [
       "<IPython.core.display.HTML object>"
      ]
     },
     "metadata": {},
     "output_type": "display_data"
    },
    {
     "data": {
      "text/plain": []
     },
     "execution_count": 33,
     "metadata": {},
     "output_type": "execute_result"
    }
   ],
   "source": [
    "demo.launch()"
   ]
  },
  {
   "cell_type": "markdown",
   "id": "656a2eac",
   "metadata": {},
   "source": [
    "If you want others to use this interface, just set 'share=True' in 'launch()'.\n",
    "\n",
    "Then send the public URL to your users for them to use.\n",
    "\n",
    "Please note: \n",
    "\n",
    "1.Because the processing happens on your device，your device should stay on!\n",
    "\n",
    "2.These links are publicly accessible, meaning that anyone can use your model for prediction! Therefore, make sure not to expose any sensitive information through the functions you write, or allow any critical changes to occur on your device.\n",
    "\n",
    "3.If you set share=False (the default, except in colab notebooks), only a local link is created.\n",
    "\n",
    "4.This share link expires in 72 hours."
   ]
  },
  {
   "cell_type": "code",
   "execution_count": 34,
   "id": "fe29f33e",
   "metadata": {
    "scrolled": true
   },
   "outputs": [
    {
     "name": "stdout",
     "output_type": "stream",
     "text": [
      "Rerunning server... use `close()` to stop if you need to change `launch()` parameters.\n",
      "----\n",
      "Running on local URL:  http://127.0.0.1:7881\n",
      "Running on public URL: https://f24f4a0c9b714676.gradio.app\n",
      "\n",
      "This share link expires in 72 hours. For free permanent hosting and GPU upgrades (NEW!), check out Spaces: https://huggingface.co/spaces\n"
     ]
    },
    {
     "data": {
      "text/html": [
       "<div><iframe src=\"https://f24f4a0c9b714676.gradio.app\" width=\"100%\" height=\"500\" allow=\"autoplay; camera; microphone; clipboard-read; clipboard-write;\" frameborder=\"0\" allowfullscreen></iframe></div>"
      ],
      "text/plain": [
       "<IPython.core.display.HTML object>"
      ]
     },
     "metadata": {},
     "output_type": "display_data"
    },
    {
     "data": {
      "text/plain": []
     },
     "execution_count": 34,
     "metadata": {},
     "output_type": "execute_result"
    }
   ],
   "source": [
    "demo.launch(share=True)"
   ]
  },
  {
   "cell_type": "markdown",
   "id": "38345ada",
   "metadata": {},
   "source": [
    "# Flexible use of the Interface class through more complex examples"
   ]
  },
  {
   "cell_type": "markdown",
   "id": "c034e181",
   "metadata": {},
   "source": [
    "### 1.Multiple Input and Output Components"
   ]
  },
  {
   "cell_type": "markdown",
   "id": "c24142b9",
   "metadata": {},
   "source": [
    "Suppose you had a more complex function, with multiple inputs and outputs. In the example below, we define a function that takes a string, boolean, and number, and returns a string and number. Take a look how you pass a list of input and output components."
   ]
  },
  {
   "cell_type": "code",
   "execution_count": 35,
   "id": "ab1a29c3",
   "metadata": {},
   "outputs": [
    {
     "name": "stdout",
     "output_type": "stream",
     "text": [
      "Running on local URL:  http://127.0.0.1:7882\n",
      "\n",
      "To create a public link, set `share=True` in `launch()`.\n"
     ]
    },
    {
     "data": {
      "text/html": [
       "<div><iframe src=\"http://127.0.0.1:7882/\" width=\"100%\" height=\"500\" allow=\"autoplay; camera; microphone; clipboard-read; clipboard-write;\" frameborder=\"0\" allowfullscreen></iframe></div>"
      ],
      "text/plain": [
       "<IPython.core.display.HTML object>"
      ]
     },
     "metadata": {},
     "output_type": "display_data"
    },
    {
     "data": {
      "text/plain": []
     },
     "execution_count": 35,
     "metadata": {},
     "output_type": "execute_result"
    }
   ],
   "source": [
    "import gradio as gr\n",
    "\n",
    "def greet(name, is_morning, temperature):\n",
    "    salutation = \"Good morning\" if is_morning else \"Good evening\"\n",
    "    greeting = f\"{salutation} {name}. It is {temperature} degrees today\"\n",
    "    celsius = (temperature - 32) * 5 / 9\n",
    "    return greeting, round(celsius, 2)\n",
    "\n",
    "demo = gr.Interface(\n",
    "    fn=greet,\n",
    "    inputs=[\"text\", \"checkbox\", gr.Slider(0, 100)],\n",
    "    outputs=[\"text\", \"number\"],\n",
    ")\n",
    "demo.launch()"
   ]
  },
  {
   "cell_type": "markdown",
   "id": "8cbcd9a4",
   "metadata": {},
   "source": [
    "You simply wrap the components in a list. Each component in the inputs list corresponds to one of the parameters of the function, in order. Each component in the outputs list corresponds to one of the values returned by the function, again in order."
   ]
  },
  {
   "cell_type": "markdown",
   "id": "d171bca1",
   "metadata": {},
   "source": [
    "### 2.An Image Example"
   ]
  },
  {
   "cell_type": "markdown",
   "id": "a607ce4a",
   "metadata": {},
   "source": [
    "Gradio supports many types of components, such as Image, DataFrame, Video, or Label. Let's try an image-to-image function to get a feel for these!"
   ]
  },
  {
   "cell_type": "code",
   "execution_count": 36,
   "id": "cf565e13",
   "metadata": {},
   "outputs": [
    {
     "name": "stdout",
     "output_type": "stream",
     "text": [
      "Running on local URL:  http://127.0.0.1:7883\n",
      "\n",
      "To create a public link, set `share=True` in `launch()`.\n"
     ]
    },
    {
     "data": {
      "text/html": [
       "<div><iframe src=\"http://127.0.0.1:7883/\" width=\"100%\" height=\"500\" allow=\"autoplay; camera; microphone; clipboard-read; clipboard-write;\" frameborder=\"0\" allowfullscreen></iframe></div>"
      ],
      "text/plain": [
       "<IPython.core.display.HTML object>"
      ]
     },
     "metadata": {},
     "output_type": "display_data"
    },
    {
     "data": {
      "text/plain": []
     },
     "execution_count": 36,
     "metadata": {},
     "output_type": "execute_result"
    }
   ],
   "source": [
    "import numpy as np\n",
    "import gradio as gr\n",
    "\n",
    "def sepia(input_img):\n",
    "    sepia_filter = np.array([\n",
    "        [0.393, 0.769, 0.189], \n",
    "        [0.349, 0.686, 0.168], \n",
    "        [0.272, 0.534, 0.131]\n",
    "    ])\n",
    "    sepia_img = input_img.dot(sepia_filter.T)\n",
    "    sepia_img /= sepia_img.max()\n",
    "    return sepia_img\n",
    "\n",
    "demo = gr.Interface(sepia, gr.Image(shape=(200, 200)), \"image\")\n",
    "demo.launch()"
   ]
  },
  {
   "cell_type": "markdown",
   "id": "2bd4368a",
   "metadata": {},
   "source": [
    "When using the Image component as input, your function will receive a NumPy array with the shape (width, height, 3), where the last dimension represents the RGB values. We'll return an image as well in the form of a NumPy array.\n",
    "\n",
    "You can also set the datatype used by the component with the type= keyword argument. For example, if you wanted your function to take a file path to an image instead of a NumPy array, the input Image component could be written as:\n",
    "\n",
    "\n",
    "gr.Image(type=\"filepath\", shape=...)\n",
    "Also note that our input Image component comes with an edit button 🖉, which allows for cropping and zooming into images. Manipulating images in this way can help reveal biases or hidden flaws in a machine learning model!"
   ]
  },
  {
   "cell_type": "markdown",
   "id": "d8b48755",
   "metadata": {},
   "source": [
    "# Blocks: More Flexibility and Control"
   ]
  },
  {
   "cell_type": "markdown",
   "id": "8549ff0d",
   "metadata": {},
   "source": [
    "Gradio offers two classes to build apps:\n",
    "\n",
    "1. Interface, that provides a high-level abstraction for creating demos that we've been discussing so far.\n",
    "\n",
    "2. Blocks, a low-level API for designing web apps with more flexible layouts and data flows. Blocks allows you to do things like feature multiple data flows and demos, control where components appear on the page, handle complex data flows (e.g. outputs can serve as inputs to other functions), and update properties/visibility of components based on user interaction — still all in Python. If this customizability is what you need, try Blocks instead!"
   ]
  },
  {
   "cell_type": "markdown",
   "id": "93e710c2",
   "metadata": {},
   "source": [
    "### Hello, Blocks"
   ]
  },
  {
   "cell_type": "markdown",
   "id": "34a05fc4",
   "metadata": {},
   "source": [
    "Let's take a look at a simple example. Note how the API here differs from Interface."
   ]
  },
  {
   "cell_type": "code",
   "execution_count": 37,
   "id": "0c85abaf",
   "metadata": {},
   "outputs": [
    {
     "name": "stdout",
     "output_type": "stream",
     "text": [
      "Running on local URL:  http://127.0.0.1:7884\n",
      "\n",
      "To create a public link, set `share=True` in `launch()`.\n"
     ]
    },
    {
     "data": {
      "text/html": [
       "<div><iframe src=\"http://127.0.0.1:7884/\" width=\"100%\" height=\"500\" allow=\"autoplay; camera; microphone; clipboard-read; clipboard-write;\" frameborder=\"0\" allowfullscreen></iframe></div>"
      ],
      "text/plain": [
       "<IPython.core.display.HTML object>"
      ]
     },
     "metadata": {},
     "output_type": "display_data"
    },
    {
     "data": {
      "text/plain": []
     },
     "execution_count": 37,
     "metadata": {},
     "output_type": "execute_result"
    }
   ],
   "source": [
    "import gradio as gr\n",
    "\n",
    "def greet(name):\n",
    "    return \"Hello \" + name + \"!\"\n",
    "\n",
    "with gr.Blocks() as demo:\n",
    "    name = gr.Textbox(label=\"Name\")\n",
    "    output = gr.Textbox(label=\"Output Box\")\n",
    "    greet_btn = gr.Button(\"Greet\")\n",
    "    greet_btn.click(fn=greet, inputs=name, outputs=output)\n",
    "\n",
    "demo.launch()"
   ]
  },
  {
   "cell_type": "markdown",
   "id": "65c1d020",
   "metadata": {},
   "source": [
    "Things to note:\n",
    "\n",
    "Blocks are made with a with clause, and any component created inside this clause is automatically added to the app.\n",
    "\n",
    "Components appear vertically in the app in the order they are created. (Later we will cover customizing layouts!)\n",
    "\n",
    "A Button was created, and then a click event-listener was added to this button. The API for this should look familiar! Like an Interface, the click method takes a Python function, input components, and output components."
   ]
  },
  {
   "cell_type": "markdown",
   "id": "ca7422e7",
   "metadata": {},
   "source": [
    "## More Complexity about Blocks"
   ]
  },
  {
   "cell_type": "code",
   "execution_count": 38,
   "id": "faf87751",
   "metadata": {},
   "outputs": [
    {
     "name": "stdout",
     "output_type": "stream",
     "text": [
      "Running on local URL:  http://127.0.0.1:7885\n",
      "\n",
      "To create a public link, set `share=True` in `launch()`.\n"
     ]
    },
    {
     "data": {
      "text/html": [
       "<div><iframe src=\"http://127.0.0.1:7885/\" width=\"100%\" height=\"500\" allow=\"autoplay; camera; microphone; clipboard-read; clipboard-write;\" frameborder=\"0\" allowfullscreen></iframe></div>"
      ],
      "text/plain": [
       "<IPython.core.display.HTML object>"
      ]
     },
     "metadata": {},
     "output_type": "display_data"
    },
    {
     "data": {
      "text/plain": []
     },
     "execution_count": 38,
     "metadata": {},
     "output_type": "execute_result"
    }
   ],
   "source": [
    "import numpy as np\n",
    "import gradio as gr\n",
    "\n",
    "def flip_text(x):\n",
    "    return x[::-1]\n",
    "\n",
    "def flip_image(x):\n",
    "    return np.fliplr(x)\n",
    "\n",
    "with gr.Blocks() as demo:\n",
    "    gr.Markdown(\"Flip text or image files using this demo.\")\n",
    "    with gr.Tab(\"Flip Text\"):\n",
    "        text_input = gr.Textbox()\n",
    "        text_output = gr.Textbox()\n",
    "        text_button = gr.Button(\"Flip\")\n",
    "    with gr.Tab(\"Flip Image\"):\n",
    "        with gr.Row():\n",
    "            image_input = gr.Image()\n",
    "            image_output = gr.Image()\n",
    "        image_button = gr.Button(\"Flip\")\n",
    "\n",
    "    with gr.Accordion(\"Open for More!\"):\n",
    "        gr.Markdown(\"Look at me...\")\n",
    "\n",
    "    text_button.click(flip_text, inputs=text_input, outputs=text_output)\n",
    "    image_button.click(flip_image, inputs=image_input, outputs=image_output)\n",
    "\n",
    "demo.launch()"
   ]
  },
  {
   "cell_type": "markdown",
   "id": "b5d60595",
   "metadata": {},
   "source": [
    "### This tutorial is a simple introductory tutorial for Gradio. For more complex functions, please refer to the URL https://gradio.app/"
   ]
  },
  {
   "cell_type": "code",
   "execution_count": null,
   "id": "bba573d1",
   "metadata": {},
   "outputs": [],
   "source": []
  }
 ],
 "metadata": {
  "celltoolbar": "Необработанный формат ячейки",
  "kernelspec": {
   "display_name": "Python 3 (ipykernel)",
   "language": "python",
   "name": "python3"
  },
  "language_info": {
   "codemirror_mode": {
    "name": "ipython",
    "version": 3
   },
   "file_extension": ".py",
   "mimetype": "text/x-python",
   "name": "python",
   "nbconvert_exporter": "python",
   "pygments_lexer": "ipython3",
   "version": "3.9.7"
  }
 },
 "nbformat": 4,
 "nbformat_minor": 5
}
